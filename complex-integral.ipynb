{
 "cells": [
  {
   "cell_type": "markdown",
   "metadata": {},
   "source": [
    "# 複素数の積分\n",
    "\n",
    "複素数関数の積分は複素平面上での積分となるため、線積分として計算します。\n",
    "\n",
    "Sympy 上で線積分を計算する場合、媒介変数で実部・虚部を表し計算します。\n",
    "\n",
    "次の積分は、x軸上の線分[0,1]上の複素数関数$f(z)=z$の線積分です。"
   ]
  },
  {
   "cell_type": "code",
   "execution_count": 27,
   "metadata": {},
   "outputs": [
    {
     "data": {
      "text/latex": [
       "$\\displaystyle \\frac{1}{2}$"
      ],
      "text/plain": [
       "1/2"
      ]
     },
     "execution_count": 27,
     "metadata": {},
     "output_type": "execute_result"
    }
   ],
   "source": [
    "from sympy import symbols, integrate, I, diff\n",
    "\n",
    "x, y, t = symbols(\"x y t\", real=True)\n",
    "\n",
    "x = t\n",
    "y = 0\n",
    "z = x + I * y\n",
    "dzdt = diff(z, t)\n",
    "integrate(z, (t, 0, 1))"
   ]
  },
  {
   "cell_type": "markdown",
   "metadata": {},
   "source": [
    "同じ関数を閉曲線上で計算してみましょう。"
   ]
  },
  {
   "cell_type": "code",
   "execution_count": 28,
   "metadata": {},
   "outputs": [
    {
     "data": {
      "text/latex": [
       "$\\displaystyle - \\frac{1}{2} + i$"
      ],
      "text/plain": [
       "-1/2 + I"
      ]
     },
     "execution_count": 28,
     "metadata": {},
     "output_type": "execute_result"
    }
   ],
   "source": [
    "# x=1 上の線積分\n",
    "x = 1\n",
    "y = t\n",
    "z = x + I * y\n",
    "dzdt = diff(z, t)\n",
    "integrate(z * dzdt, (t, 0, 1))"
   ]
  },
  {
   "cell_type": "code",
   "execution_count": 29,
   "metadata": {},
   "outputs": [
    {
     "data": {
      "text/latex": [
       "$\\displaystyle - \\frac{1}{2} - i$"
      ],
      "text/plain": [
       "-1/2 - I"
      ]
     },
     "execution_count": 29,
     "metadata": {},
     "output_type": "execute_result"
    }
   ],
   "source": [
    "# y=1 上での線積分\n",
    "x = t\n",
    "y = 1\n",
    "z = x + I * y\n",
    "dzdt = diff(z, t)\n",
    "integrate(z * dzdt, (t, 1, 0))"
   ]
  },
  {
   "cell_type": "code",
   "execution_count": 30,
   "metadata": {},
   "outputs": [
    {
     "data": {
      "text/latex": [
       "$\\displaystyle \\frac{1}{2}$"
      ],
      "text/plain": [
       "1/2"
      ]
     },
     "execution_count": 30,
     "metadata": {},
     "output_type": "execute_result"
    }
   ],
   "source": [
    "# x=0 上での線積分\n",
    "x = 0\n",
    "y = t\n",
    "z = x + I * y\n",
    "dzdt = diff(z, t)\n",
    "integrate(z * dzdt, (t, 1, 0))"
   ]
  },
  {
   "cell_type": "markdown",
   "metadata": {},
   "source": [
    "この複素関数は領域内で正則なので、コーシーの積分定理より閉曲線上の積分を足し合わせると０となります。"
   ]
  }
 ],
 "metadata": {
  "kernelspec": {
   "display_name": "Python 3",
   "language": "python",
   "name": "python3"
  },
  "language_info": {
   "codemirror_mode": {
    "name": "ipython",
    "version": 3
   },
   "file_extension": ".py",
   "mimetype": "text/x-python",
   "name": "python",
   "nbconvert_exporter": "python",
   "pygments_lexer": "ipython3",
   "version": "3.11.5"
  }
 },
 "nbformat": 4,
 "nbformat_minor": 2
}
