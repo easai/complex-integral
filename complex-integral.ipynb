{
 "cells": [
  {
   "cell_type": "markdown",
   "metadata": {},
   "source": [
    "# 複素数の積分\n",
    "\n",
    "複素数関数の積分は複素平面上での積分となるため、線積分として計算します。\n",
    "\n",
    "Sympy 上で線積分を計算する場合、媒介変数で実部・虚部を表し計算します。\n",
    "\n",
    "次の積分は、x 軸上の線分[0,1]上の複素数関数 $f(z)=z$ の線積分です。"
   ]
  },
  {
   "cell_type": "code",
   "execution_count": 2,
   "metadata": {},
   "outputs": [
    {
     "data": {
      "text/latex": [
       "$\\displaystyle \\frac{1}{2}$"
      ],
      "text/plain": [
       "1/2"
      ]
     },
     "execution_count": 2,
     "metadata": {},
     "output_type": "execute_result"
    }
   ],
   "source": [
    "from sympy import symbols, integrate, I, diff\n",
    "\n",
    "x, y, t = symbols(\"x y t\", real=True)\n",
    "\n",
    "x = t\n",
    "y = 0\n",
    "z = x + I * y\n",
    "dzdt = diff(z, t)\n",
    "integrate(z, (t, 0, 1))"
   ]
  },
  {
   "cell_type": "markdown",
   "metadata": {},
   "source": [
    "同じ関数を閉曲線上で計算してみましょう。"
   ]
  },
  {
   "cell_type": "code",
   "execution_count": 3,
   "metadata": {},
   "outputs": [
    {
     "data": {
      "text/latex": [
       "$\\displaystyle - \\frac{1}{2} + i$"
      ],
      "text/plain": [
       "-1/2 + I"
      ]
     },
     "execution_count": 3,
     "metadata": {},
     "output_type": "execute_result"
    }
   ],
   "source": [
    "# x=1 上の線積分\n",
    "x = 1\n",
    "y = t\n",
    "z = x + I * y\n",
    "dzdt = diff(z, t)\n",
    "integrate(z * dzdt, (t, 0, 1))"
   ]
  },
  {
   "cell_type": "code",
   "execution_count": 4,
   "metadata": {},
   "outputs": [
    {
     "data": {
      "text/latex": [
       "$\\displaystyle - \\frac{1}{2} - i$"
      ],
      "text/plain": [
       "-1/2 - I"
      ]
     },
     "execution_count": 4,
     "metadata": {},
     "output_type": "execute_result"
    }
   ],
   "source": [
    "# y=1 上での線積分\n",
    "x = t\n",
    "y = 1\n",
    "z = x + I * y\n",
    "dzdt = diff(z, t)\n",
    "integrate(z * dzdt, (t, 1, 0))"
   ]
  },
  {
   "cell_type": "code",
   "execution_count": 5,
   "metadata": {},
   "outputs": [
    {
     "data": {
      "text/latex": [
       "$\\displaystyle \\frac{1}{2}$"
      ],
      "text/plain": [
       "1/2"
      ]
     },
     "execution_count": 5,
     "metadata": {},
     "output_type": "execute_result"
    }
   ],
   "source": [
    "# x=0 上での線積分\n",
    "x = 0\n",
    "y = t\n",
    "z = x + I * y\n",
    "dzdt = diff(z, t)\n",
    "integrate(z * dzdt, (t, 1, 0))"
   ]
  },
  {
   "cell_type": "markdown",
   "metadata": {},
   "source": [
    "この複素関数は領域内で正則なので、コーシーの積分定理より閉曲線上の積分を足し合わせると０となります。\n",
    "\n",
    "正則でない場合も計算してみましょう。以下の関数を (1,0)を中心とする半径１の円上で積分します。\n",
    "$$\n",
    "f(z)={1\\over z-1}\n",
    "$$\n",
    "円は$z=1+e^{i\\theta}$で表せるので、${dz\\over d\\theta}=i e^{i\\theta}$から、\n",
    "$$\n",
    "\\begin{align*}\n",
    "\\oint_C {1\\over z-1} dz&=\\int_0^{2\\pi} {1\\over z-1} i e^{i\\theta} d\\theta\\\\\n",
    "&=\\int_0^{2\\pi} {1\\over e^{i\\theta}} i e^{i\\theta} d\\theta\\\\\n",
    "&=2i\\pi\n",
    "\\end{align*}\n",
    "$$"
   ]
  },
  {
   "cell_type": "code",
   "execution_count": 6,
   "metadata": {},
   "outputs": [
    {
     "data": {
      "text/latex": [
       "$\\displaystyle 2 i \\pi$"
      ],
      "text/plain": [
       "2*I*pi"
      ]
     },
     "execution_count": 6,
     "metadata": {},
     "output_type": "execute_result"
    }
   ],
   "source": [
    "from sympy import exp, pi\n",
    "\n",
    "r,theta=symbols(\"r theta\")\n",
    "z=1+r*exp(theta*I)\n",
    "dzdtheta=diff(z,theta)\n",
    "f=1/(z-1)\n",
    "integrate(f*dzdtheta, (theta, 0, 2*pi))\n"
   ]
  },
  {
   "cell_type": "markdown",
   "metadata": {},
   "source": [
    "この結果とコーシーの積分公式を使って $f(z)=1$ が計算できます。\n",
    "\n",
    "コーシーの積分公式\n",
    "$$\n",
    "f(z)={1\\over 2\\pi i}\\oint_C {f(\\zeta)\\over \\zeta-z}d\\zeta\n",
    "$$\n",
    "\n",
    "ですので上記の計算結果\n",
    "$$\n",
    "\\oint_C {1\\over z-1}dz = 2\\pi i\n",
    "$$\n",
    "から\n",
    "$$\n",
    "f(1)={2\\pi i\\over 2\\pi i}=1\n",
    "$$\n",
    "が計算できます。"
   ]
  },
  {
   "cell_type": "code",
   "execution_count": 13,
   "metadata": {},
   "outputs": [
    {
     "data": {
      "text/latex": [
       "$\\displaystyle 1$"
      ],
      "text/plain": [
       "1"
      ]
     },
     "execution_count": 13,
     "metadata": {},
     "output_type": "execute_result"
    }
   ],
   "source": [
    "a = 1\n",
    "z = a + r * exp(theta * I)\n",
    "dzdtheta = diff(z, theta)\n",
    "f = 1 / (z - a)\n",
    "integrate(f * dzdtheta, (theta, 0, 2 * pi)) / (2 * pi * I)"
   ]
  },
  {
   "cell_type": "markdown",
   "metadata": {},
   "source": [
    "同じ形式で $f(-1)$ も計算できます。"
   ]
  },
  {
   "cell_type": "code",
   "execution_count": 14,
   "metadata": {},
   "outputs": [
    {
     "data": {
      "text/latex": [
       "$\\displaystyle 1$"
      ],
      "text/plain": [
       "1"
      ]
     },
     "execution_count": 14,
     "metadata": {},
     "output_type": "execute_result"
    }
   ],
   "source": [
    "a = -1\n",
    "z = a + r * exp(theta * I)\n",
    "dzdtheta = diff(z, theta)\n",
    "f = 1 / (z - a)\n",
    "integrate(f * dzdtheta, (theta, 0, 2 * pi)) / (2 * pi * I)"
   ]
  }
 ],
 "metadata": {
  "kernelspec": {
   "display_name": "Python 3",
   "language": "python",
   "name": "python3"
  },
  "language_info": {
   "codemirror_mode": {
    "name": "ipython",
    "version": 3
   },
   "file_extension": ".py",
   "mimetype": "text/x-python",
   "name": "python",
   "nbconvert_exporter": "python",
   "pygments_lexer": "ipython3",
   "version": "3.11.5"
  }
 },
 "nbformat": 4,
 "nbformat_minor": 2
}
